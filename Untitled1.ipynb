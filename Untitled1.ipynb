{
 "cells": [
  {
   "cell_type": "code",
   "execution_count": 5,
   "metadata": {},
   "outputs": [],
   "source": [
    "from keras.datasets import mnist\n",
    "from keras.utils import np_utils\n",
    "\n",
    "def load_data():\n",
    "        # 載入minst的資料\n",
    "        (x_train, y_train), (x_test, y_test) = mnist.load_data()\n",
    "        # 將圖片轉換為一個60000*784的向量，並且標準化\n",
    "        x_train = x_train.reshape(x_train.shape[0], 28*28)\n",
    "        x_test = x_test.reshape(x_test.shape[0], 28*28)\n",
    "        x_train = x_train.astype('float32')\n",
    "        x_test = x_test.astype('float32')\n",
    "        x_train = x_train/255\n",
    "        x_test = x_test/255\n",
    "        # 將y轉換成one-hot encoding \n",
    "        y_train = np_utils.to_categorical(y_train, 10)\n",
    "        y_test = np_utils.to_categorical(y_test, 10)\n",
    "        # 回傳處理完的資料\n",
    "        return (x_train, y_train), (x_test, y_test)"
   ]
  },
  {
   "cell_type": "code",
   "execution_count": 6,
   "metadata": {},
   "outputs": [],
   "source": [
    "import numpy as np\n",
    "from keras.models import Sequential\n",
    "from keras.layers.core import Dense,Activation\n",
    "from keras.optimizers import  Adam\n",
    "\n",
    "def build_model():\n",
    "        #建立模型\n",
    "        model = Sequential()\n",
    "        #將模型疊起\n",
    "        model.add(Dense(input_dim=28*28,units=500,activation='relu'))\n",
    "        model.add(Dense(units=500,activation='relu'))\n",
    "        model.add(Dense(units=500,activation='relu'))\n",
    "        model.add(Dense(units=10,activation='softmax'))\n",
    "        model.summary()\n",
    "        return model"
   ]
  },
  {
   "cell_type": "code",
   "execution_count": 8,
   "metadata": {},
   "outputs": [
    {
     "name": "stdout",
     "output_type": "stream",
     "text": [
      "Downloading data from https://s3.amazonaws.com/img-datasets/mnist.npz\n",
      "11493376/11490434 [==============================] - 476s 41us/step\n"
     ]
    }
   ],
   "source": [
    "(x_train,y_train),(x_test,y_test)=load_data()"
   ]
  },
  {
   "cell_type": "code",
   "execution_count": 9,
   "metadata": {
    "scrolled": false
   },
   "outputs": [
    {
     "name": "stdout",
     "output_type": "stream",
     "text": [
      "_________________________________________________________________\n",
      "Layer (type)                 Output Shape              Param #   \n",
      "=================================================================\n",
      "dense_1 (Dense)              (None, 500)               392500    \n",
      "_________________________________________________________________\n",
      "dense_2 (Dense)              (None, 500)               250500    \n",
      "_________________________________________________________________\n",
      "dense_3 (Dense)              (None, 500)               250500    \n",
      "_________________________________________________________________\n",
      "dense_4 (Dense)              (None, 10)                5010      \n",
      "=================================================================\n",
      "Total params: 898,510\n",
      "Trainable params: 898,510\n",
      "Non-trainable params: 0\n",
      "_________________________________________________________________\n",
      "Epoch 1/20\n",
      "60000/60000 [==============================] - 18s 306us/step - loss: 0.2049 - acc: 0.9381\n",
      "Epoch 2/20\n",
      "60000/60000 [==============================] - 17s 284us/step - loss: 0.0816 - acc: 0.9748\n",
      "Epoch 3/20\n",
      "60000/60000 [==============================] - 17s 286us/step - loss: 0.0578 - acc: 0.9819\n",
      "Epoch 4/20\n",
      "60000/60000 [==============================] - 17s 289us/step - loss: 0.0424 - acc: 0.9865\n",
      "Epoch 5/20\n",
      "60000/60000 [==============================] - 17s 289us/step - loss: 0.0353 - acc: 0.9886\n",
      "Epoch 6/20\n",
      "60000/60000 [==============================] - 18s 293us/step - loss: 0.0292 - acc: 0.99080s - loss: 0.028\n",
      "Epoch 7/20\n",
      "60000/60000 [==============================] - 18s 293us/step - loss: 0.0256 - acc: 0.9917\n",
      "Epoch 8/20\n",
      "60000/60000 [==============================] - 17s 290us/step - loss: 0.0221 - acc: 0.9926\n",
      "Epoch 9/20\n",
      "60000/60000 [==============================] - 16s 270us/step - loss: 0.0203 - acc: 0.9937\n",
      "Epoch 10/20\n",
      "60000/60000 [==============================] - 17s 276us/step - loss: 0.0170 - acc: 0.9948\n",
      "Epoch 11/20\n",
      "60000/60000 [==============================] - 19s 321us/step - loss: 0.0193 - acc: 0.9938\n",
      "Epoch 12/20\n",
      "60000/60000 [==============================] - 17s 276us/step - loss: 0.0154 - acc: 0.9951\n",
      "Epoch 13/20\n",
      "60000/60000 [==============================] - 16s 265us/step - loss: 0.0126 - acc: 0.9963\n",
      "Epoch 14/20\n",
      "60000/60000 [==============================] - 17s 276us/step - loss: 0.0141 - acc: 0.9959\n",
      "Epoch 15/20\n",
      "60000/60000 [==============================] - 17s 279us/step - loss: 0.0141 - acc: 0.9957\n",
      "Epoch 16/20\n",
      "60000/60000 [==============================] - 17s 281us/step - loss: 0.0138 - acc: 0.9958\n",
      "Epoch 17/20\n",
      "60000/60000 [==============================] - 16s 269us/step - loss: 0.0105 - acc: 0.9974\n",
      "Epoch 18/20\n",
      "60000/60000 [==============================] - 16s 271us/step - loss: 0.0130 - acc: 0.9964\n",
      "Epoch 19/20\n",
      "60000/60000 [==============================] - 16s 270us/step - loss: 0.0136 - acc: 0.9963\n",
      "Epoch 20/20\n",
      "60000/60000 [==============================] - 16s 262us/step - loss: 0.0071 - acc: 0.9978\n",
      "60000/60000 [==============================] - 7s 113us/step\n",
      "\n",
      "Train Acc: 0.996\n",
      "10000/10000 [==============================] - 1s 109us/step\n",
      "\n",
      "Test Acc: 0.9771\n"
     ]
    }
   ],
   "source": [
    "model = build_model()\n",
    "#開始訓練模型\n",
    "model.compile(loss='categorical_crossentropy',optimizer=\"adam\",metrics=['accuracy'])\n",
    "model.fit(x_train,y_train,batch_size=100,epochs=20)\n",
    "#顯示訓練結果\n",
    "score = model.evaluate(x_train,y_train)\n",
    "print ('\\nTrain Acc:', score[1])\n",
    "score = model.evaluate(x_test,y_test)\n",
    "print ('\\nTest Acc:', score[1])"
   ]
  }
 ],
 "metadata": {
  "kernelspec": {
   "display_name": "Python 3",
   "language": "python",
   "name": "python3"
  },
  "language_info": {
   "codemirror_mode": {
    "name": "ipython",
    "version": 3
   },
   "file_extension": ".py",
   "mimetype": "text/x-python",
   "name": "python",
   "nbconvert_exporter": "python",
   "pygments_lexer": "ipython3",
   "version": "3.6.5"
  }
 },
 "nbformat": 4,
 "nbformat_minor": 2
}
